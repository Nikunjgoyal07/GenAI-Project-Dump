{
  "nbformat": 4,
  "nbformat_minor": 0,
  "metadata": {
    "colab": {
      "provenance": []
    },
    "kernelspec": {
      "name": "python3",
      "display_name": "Python 3"
    },
    "language_info": {
      "name": "python"
    }
  },
  "cells": [
    {
      "cell_type": "code",
      "execution_count": 1,
      "metadata": {
        "colab": {
          "base_uri": "https://localhost:8080/"
        },
        "id": "H7_qLkehS4cc",
        "outputId": "98156ee3-3409-4b1f-c7f9-3585388fc63b"
      },
      "outputs": [
        {
          "output_type": "stream",
          "name": "stdout",
          "text": [
            "\u001b[?25l   \u001b[90m━━━━━━━━━━━━━━━━━━━━━━━━━━━━━━━━━━━━━━━━\u001b[0m \u001b[32m0.0/44.8 kB\u001b[0m \u001b[31m?\u001b[0m eta \u001b[36m-:--:--\u001b[0m\r\u001b[2K   \u001b[90m━━━━━━━━━━━━━━━━━━━━━━━━━━━━━━━━━━━━━━━━\u001b[0m \u001b[32m44.8/44.8 kB\u001b[0m \u001b[31m2.3 MB/s\u001b[0m eta \u001b[36m0:00:00\u001b[0m\n",
            "\u001b[?25h\u001b[?25l   \u001b[90m━━━━━━━━━━━━━━━━━━━━━━━━━━━━━━━━━━━━━━━━\u001b[0m \u001b[32m0.0/2.5 MB\u001b[0m \u001b[31m?\u001b[0m eta \u001b[36m-:--:--\u001b[0m\r\u001b[2K   \u001b[91m━━━━━━━━━━━━━━━━━━━━━━━━━━━━━\u001b[0m\u001b[90m╺\u001b[0m\u001b[90m━━━━━━━━━━\u001b[0m \u001b[32m1.9/2.5 MB\u001b[0m \u001b[31m58.0 MB/s\u001b[0m eta \u001b[36m0:00:01\u001b[0m\r\u001b[2K   \u001b[90m━━━━━━━━━━━━━━━━━━━━━━━━━━━━━━━━━━━━━━━━\u001b[0m \u001b[32m2.5/2.5 MB\u001b[0m \u001b[31m38.3 MB/s\u001b[0m eta \u001b[36m0:00:00\u001b[0m\n",
            "\u001b[2K   \u001b[90m━━━━━━━━━━━━━━━━━━━━━━━━━━━━━━━━━━━━━━━━\u001b[0m \u001b[32m1.4/1.4 MB\u001b[0m \u001b[31m37.1 MB/s\u001b[0m eta \u001b[36m0:00:00\u001b[0m\n",
            "\u001b[2K   \u001b[90m━━━━━━━━━━━━━━━━━━━━━━━━━━━━━━━━━━━━━━━━\u001b[0m \u001b[32m3.3/3.3 MB\u001b[0m \u001b[31m40.2 MB/s\u001b[0m eta \u001b[36m0:00:00\u001b[0m\n",
            "\u001b[2K   \u001b[90m━━━━━━━━━━━━━━━━━━━━━━━━━━━━━━━━━━━━━━━━\u001b[0m \u001b[32m44.4/44.4 kB\u001b[0m \u001b[31m1.7 MB/s\u001b[0m eta \u001b[36m0:00:00\u001b[0m\n",
            "\u001b[2K   \u001b[90m━━━━━━━━━━━━━━━━━━━━━━━━━━━━━━━━━━━━━━━━\u001b[0m \u001b[32m50.9/50.9 kB\u001b[0m \u001b[31m2.4 MB/s\u001b[0m eta \u001b[36m0:00:00\u001b[0m\n",
            "\u001b[?25h\u001b[31mERROR: pip's dependency resolver does not currently take into account all the packages that are installed. This behaviour is the source of the following dependency conflicts.\n",
            "google-generativeai 0.8.5 requires google-ai-generativelanguage==0.6.15, but you have google-ai-generativelanguage 0.6.18 which is incompatible.\u001b[0m\u001b[31m\n",
            "\u001b[0m"
          ]
        }
      ],
      "source": [
        "!pip install -q langchain-google-genai langchain-community langchain-core requests duckduckgo-search"
      ]
    },
    {
      "cell_type": "code",
      "source": [
        "import getpass\n",
        "import os\n",
        "\n",
        "if \"GOOGLE_API_KEY\" not in os.environ:\n",
        "    os.environ[\"GOOGLE_API_KEY\"] = getpass.getpass(\"Enter your Google AI API key: \")"
      ],
      "metadata": {
        "colab": {
          "base_uri": "https://localhost:8080/"
        },
        "id": "uQW_ypAlk9un",
        "outputId": "6a753f5c-07be-4c5d-f60e-e7d9d2985f27"
      },
      "execution_count": 2,
      "outputs": [
        {
          "name": "stdout",
          "output_type": "stream",
          "text": [
            "Enter your Google AI API key: ··········\n"
          ]
        }
      ]
    },
    {
      "cell_type": "code",
      "source": [
        "from langchain_google_genai import ChatGoogleGenerativeAI\n",
        "from langchain_core.tools import tool\n",
        "import requests"
      ],
      "metadata": {
        "id": "FoH119QGk_7Z"
      },
      "execution_count": 3,
      "outputs": []
    },
    {
      "cell_type": "code",
      "source": [
        "from langchain_community.tools import DuckDuckGoSearchRun\n",
        "\n",
        "search_tool = DuckDuckGoSearchRun()"
      ],
      "metadata": {
        "id": "m-yj1_GAlScR"
      },
      "execution_count": 4,
      "outputs": []
    },
    {
      "cell_type": "code",
      "source": [
        "@tool\n",
        "def getweather(city: str) -> str:\n",
        "  \"\"\"\n",
        "  This function fetches the current weather data for a given city\n",
        "  \"\"\"\n",
        "  url = f'https://api.weatherstack.com/current?access_key=<your-api-key>&query={city}'\n",
        "\n",
        "  response = requests.get(url)\n",
        "\n",
        "  return response.json()"
      ],
      "metadata": {
        "id": "xMDJc3ztmZCf"
      },
      "execution_count": 14,
      "outputs": []
    },
    {
      "cell_type": "code",
      "source": [
        "llm = ChatGoogleGenerativeAI(model=\"gemini-2.0-flash-001\")"
      ],
      "metadata": {
        "id": "BgZCZCgYmqBz"
      },
      "execution_count": 15,
      "outputs": []
    },
    {
      "cell_type": "code",
      "source": [
        "from langchain.agents import create_react_agent, AgentExecutor\n",
        "from langchain import hub"
      ],
      "metadata": {
        "id": "LWe03U00mw2Q"
      },
      "execution_count": 16,
      "outputs": []
    },
    {
      "cell_type": "code",
      "source": [
        "prompt = hub.pull(\"hwchase17/react\")"
      ],
      "metadata": {
        "colab": {
          "base_uri": "https://localhost:8080/"
        },
        "id": "azL1uxyNm1DO",
        "outputId": "5c73df48-8631-4b6e-89c7-adc1c2e507d4"
      },
      "execution_count": 17,
      "outputs": [
        {
          "output_type": "stream",
          "name": "stderr",
          "text": [
            "/usr/local/lib/python3.11/dist-packages/langsmith/client.py:272: LangSmithMissingAPIKeyWarning: API key must be provided when using hosted LangSmith API\n",
            "  warnings.warn(\n"
          ]
        }
      ]
    },
    {
      "cell_type": "code",
      "source": [
        "agent = create_react_agent(\n",
        "    llm=llm,\n",
        "    tools=[search_tool,getweather],\n",
        "    prompt=prompt\n",
        ")"
      ],
      "metadata": {
        "id": "rBJs28n5m3mH"
      },
      "execution_count": 18,
      "outputs": []
    },
    {
      "cell_type": "code",
      "source": [
        "agent_executor = AgentExecutor(\n",
        "    agent=agent,\n",
        "    tools=[search_tool,getweather],\n",
        "    verbose=True\n",
        ")"
      ],
      "metadata": {
        "id": "_i_FHcxunJYa"
      },
      "execution_count": 19,
      "outputs": []
    },
    {
      "cell_type": "code",
      "source": [
        "respons = agent_executor.invoke({\"input\":\"Find the capital of Madhya Pradesh, then find it's current weather condition\"})"
      ],
      "metadata": {
        "colab": {
          "base_uri": "https://localhost:8080/"
        },
        "id": "FgJXgTwgnVGo",
        "outputId": "08418ec9-b1fc-4091-9ef7-4fca74b3c9e5"
      },
      "execution_count": 20,
      "outputs": [
        {
          "output_type": "stream",
          "name": "stdout",
          "text": [
            "\n",
            "\n",
            "\u001b[1m> Entering new AgentExecutor chain...\u001b[0m\n",
            "\u001b[32;1m\u001b[1;3mI need to first find the capital of Madhya Pradesh using a search engine. Then, I will use the getweather tool to find its current weather.\n",
            "Action: duckduckgo_search\n",
            "Action Input: capital of Madhya Pradesh\u001b[0m\u001b[36;1m\u001b[1;3mIndore (/ ɪ n ˈ d ɔːr / ⓘ; ISO: Indaura, Hindi: [ɪn̪d̪ɔːr]) is the largest and most populous city in the Indian state of Madhya Pradesh.The commercial capital of the state, it has been declared as the cleanest city of India 7 times in a row. [15] It is also considered the largest education hub in central India and houses campuses of both the Indian Institute of Technology and the ... Madhya Pradesh, state of India that is situated in the heart of the country. It has no coastline and no international frontier. Its physiography is characterized by low hills, extensive plateaus, and river valleys. The capital is Bhopal, in the west-central part of the state. The name Indore is due to this diety. It is the largest city in Madhya Pradesh state in central India . It is among the million+ population cities of India with a population of 32,76,697 (2011). It is the commercial capital of the state of Madhya Pradesh. Indore city presents a happy blend of historical past and promises of rapid future ... It comprises 28 states and 8 Union Territories, each with its own unique culture, history, and administrative capital. Positioned in South Asia, India operates under a parliamentary system of governance. ... Madhya Pradesh. Bhopal. 1 November 1956. 14. Maharashtra. Mumbai. 1 May 1960. 15. Manipur. Imphal. 21 January 1972. 16. Meghalaya ... Timeline of Key Changes in States and Capitals. Understanding the evolution of India's states adds depth to your knowledge: 2000: Creation of Jharkhand (from Bihar), Chhattisgarh (from Madhya Pradesh), and Uttarakhand (from Uttar Pradesh); 2014: Telangana was formed as the 29th state, carved out of Andhra Pradesh; 2019: Jammu & Kashmir was reorganized into two Union Territories— Jammu ...\u001b[0m\u001b[32;1m\u001b[1;3mI have found that the capital of Madhya Pradesh is Bhopal. Now I need to find the current weather in Bhopal.\n",
            "Action: getweather\n",
            "Action Input: Bhopal\u001b[0m\u001b[33;1m\u001b[1;3m{'request': {'type': 'City', 'query': 'Bhopal, India', 'language': 'en', 'unit': 'm'}, 'location': {'name': 'Bhopal', 'country': 'India', 'region': 'Madhya Pradesh', 'lat': '23.267', 'lon': '77.400', 'timezone_id': 'Asia/Kolkata', 'localtime': '2025-06-17 16:53', 'localtime_epoch': 1750179180, 'utc_offset': '5.50'}, 'current': {'observation_time': '11:23 AM', 'temperature': 33, 'weather_code': 116, 'weather_icons': ['https://cdn.worldweatheronline.com/images/wsymbols01_png_64/wsymbol_0002_sunny_intervals.png'], 'weather_descriptions': ['Partly cloudy'], 'astro': {'sunrise': '05:35 AM', 'sunset': '07:08 PM', 'moonrise': '11:49 PM', 'moonset': '10:53 AM', 'moon_phase': 'Waning Gibbous', 'moon_illumination': 69}, 'air_quality': {'co': '323.75', 'no2': '2.22', 'o3': '107', 'so2': '9.99', 'pm2_5': '12.395', 'pm10': '23.495', 'us-epa-index': '1', 'gb-defra-index': '1'}, 'wind_speed': 23, 'wind_degree': 231, 'wind_dir': 'SW', 'pressure': 1000, 'precip': 0, 'humidity': 47, 'cloudcover': 75, 'feelslike': 36, 'uv_index': 1, 'visibility': 6, 'is_day': 'yes'}}\u001b[0m\u001b[32;1m\u001b[1;3mI have found the capital and the weather conditions.\n",
            "Final Answer: The capital of Madhya Pradesh is Bhopal. The current weather in Bhopal is partly cloudy with a temperature of 33 degrees Celsius.\u001b[0m\n",
            "\n",
            "\u001b[1m> Finished chain.\u001b[0m\n"
          ]
        }
      ]
    },
    {
      "cell_type": "code",
      "source": [
        "respons['output']"
      ],
      "metadata": {
        "colab": {
          "base_uri": "https://localhost:8080/",
          "height": 35
        },
        "id": "jxM9K_jnnyKY",
        "outputId": "eb5b1f22-2821-438f-db95-fa2174d1558d"
      },
      "execution_count": 22,
      "outputs": [
        {
          "output_type": "execute_result",
          "data": {
            "text/plain": [
              "'The capital of Madhya Pradesh is Bhopal. The current weather in Bhopal is partly cloudy with a temperature of 33 degrees Celsius.'"
            ],
            "application/vnd.google.colaboratory.intrinsic+json": {
              "type": "string"
            }
          },
          "metadata": {},
          "execution_count": 22
        }
      ]
    },
    {
      "cell_type": "code",
      "source": [],
      "metadata": {
        "id": "uTvwaqUZoPbw"
      },
      "execution_count": null,
      "outputs": []
    }
  ]
}