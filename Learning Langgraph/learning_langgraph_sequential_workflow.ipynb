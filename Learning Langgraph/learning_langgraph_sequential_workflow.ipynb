{
  "nbformat": 4,
  "nbformat_minor": 0,
  "metadata": {
    "colab": {
      "provenance": []
    },
    "kernelspec": {
      "name": "python3",
      "display_name": "Python 3"
    },
    "language_info": {
      "name": "python"
    }
  },
  "cells": [
    {
      "cell_type": "code",
      "execution_count": 1,
      "metadata": {
        "colab": {
          "base_uri": "https://localhost:8080/"
        },
        "id": "yUdJJSdRVAtC",
        "outputId": "6b2fca4a-8db3-46c9-b4f2-3171b7f9cb7f"
      },
      "outputs": [
        {
          "output_type": "stream",
          "name": "stdout",
          "text": [
            "\u001b[?25l   \u001b[90m━━━━━━━━━━━━━━━━━━━━━━━━━━━━━━━━━━━━━━━━\u001b[0m \u001b[32m0.0/47.4 kB\u001b[0m \u001b[31m?\u001b[0m eta \u001b[36m-:--:--\u001b[0m\r\u001b[2K   \u001b[90m━━━━━━━━━━━━━━━━━━━━━━━━━━━━━━━━━━━━━━━━\u001b[0m \u001b[32m47.4/47.4 kB\u001b[0m \u001b[31m3.6 MB/s\u001b[0m eta \u001b[36m0:00:00\u001b[0m\n",
            "\u001b[2K   \u001b[90m━━━━━━━━━━━━━━━━━━━━━━━━━━━━━━━━━━━━━━━━\u001b[0m \u001b[32m2.5/2.5 MB\u001b[0m \u001b[31m30.0 MB/s\u001b[0m eta \u001b[36m0:00:00\u001b[0m\n",
            "\u001b[2K   \u001b[90m━━━━━━━━━━━━━━━━━━━━━━━━━━━━━━━━━━━━━━━━\u001b[0m \u001b[32m1.4/1.4 MB\u001b[0m \u001b[31m59.2 MB/s\u001b[0m eta \u001b[36m0:00:00\u001b[0m\n",
            "\u001b[2K   \u001b[90m━━━━━━━━━━━━━━━━━━━━━━━━━━━━━━━━━━━━━━━━\u001b[0m \u001b[32m45.2/45.2 kB\u001b[0m \u001b[31m2.8 MB/s\u001b[0m eta \u001b[36m0:00:00\u001b[0m\n",
            "\u001b[2K   \u001b[90m━━━━━━━━━━━━━━━━━━━━━━━━━━━━━━━━━━━━━━━━\u001b[0m \u001b[32m50.9/50.9 kB\u001b[0m \u001b[31m2.8 MB/s\u001b[0m eta \u001b[36m0:00:00\u001b[0m\n",
            "\u001b[?25h\u001b[31mERROR: pip's dependency resolver does not currently take into account all the packages that are installed. This behaviour is the source of the following dependency conflicts.\n",
            "google-generativeai 0.8.5 requires google-ai-generativelanguage==0.6.15, but you have google-ai-generativelanguage 0.6.18 which is incompatible.\u001b[0m\u001b[31m\n",
            "\u001b[0m"
          ]
        }
      ],
      "source": [
        "!pip install -q langchain-google-genai langchain-community langchain-core"
      ]
    },
    {
      "cell_type": "code",
      "source": [
        "!pip install -U langgraph"
      ],
      "metadata": {
        "colab": {
          "base_uri": "https://localhost:8080/"
        },
        "id": "b7Ra1KB2bQjh",
        "outputId": "330e1da0-acf7-4221-a9b6-34a7a2d4d992"
      },
      "execution_count": 6,
      "outputs": [
        {
          "output_type": "stream",
          "name": "stdout",
          "text": [
            "Collecting langgraph\n",
            "  Downloading langgraph-0.5.3-py3-none-any.whl.metadata (6.9 kB)\n",
            "Requirement already satisfied: langchain-core>=0.1 in /usr/local/lib/python3.11/dist-packages (from langgraph) (0.3.68)\n",
            "Collecting langgraph-checkpoint<3.0.0,>=2.1.0 (from langgraph)\n",
            "  Downloading langgraph_checkpoint-2.1.0-py3-none-any.whl.metadata (4.2 kB)\n",
            "Collecting langgraph-prebuilt<0.6.0,>=0.5.0 (from langgraph)\n",
            "  Downloading langgraph_prebuilt-0.5.2-py3-none-any.whl.metadata (4.5 kB)\n",
            "Collecting langgraph-sdk<0.2.0,>=0.1.42 (from langgraph)\n",
            "  Downloading langgraph_sdk-0.1.73-py3-none-any.whl.metadata (1.5 kB)\n",
            "Requirement already satisfied: pydantic>=2.7.4 in /usr/local/lib/python3.11/dist-packages (from langgraph) (2.11.7)\n",
            "Requirement already satisfied: xxhash>=3.5.0 in /usr/local/lib/python3.11/dist-packages (from langgraph) (3.5.0)\n",
            "Requirement already satisfied: langsmith>=0.3.45 in /usr/local/lib/python3.11/dist-packages (from langchain-core>=0.1->langgraph) (0.4.4)\n",
            "Requirement already satisfied: tenacity!=8.4.0,<10.0.0,>=8.1.0 in /usr/local/lib/python3.11/dist-packages (from langchain-core>=0.1->langgraph) (8.5.0)\n",
            "Requirement already satisfied: jsonpatch<2.0,>=1.33 in /usr/local/lib/python3.11/dist-packages (from langchain-core>=0.1->langgraph) (1.33)\n",
            "Requirement already satisfied: PyYAML>=5.3 in /usr/local/lib/python3.11/dist-packages (from langchain-core>=0.1->langgraph) (6.0.2)\n",
            "Requirement already satisfied: packaging<25,>=23.2 in /usr/local/lib/python3.11/dist-packages (from langchain-core>=0.1->langgraph) (24.2)\n",
            "Requirement already satisfied: typing-extensions>=4.7 in /usr/local/lib/python3.11/dist-packages (from langchain-core>=0.1->langgraph) (4.14.1)\n",
            "Collecting ormsgpack>=1.10.0 (from langgraph-checkpoint<3.0.0,>=2.1.0->langgraph)\n",
            "  Downloading ormsgpack-1.10.0-cp311-cp311-manylinux_2_17_x86_64.manylinux2014_x86_64.whl.metadata (43 kB)\n",
            "\u001b[2K     \u001b[90m━━━━━━━━━━━━━━━━━━━━━━━━━━━━━━━━━━━━━━━━\u001b[0m \u001b[32m43.7/43.7 kB\u001b[0m \u001b[31m1.5 MB/s\u001b[0m eta \u001b[36m0:00:00\u001b[0m\n",
            "\u001b[?25hRequirement already satisfied: httpx>=0.25.2 in /usr/local/lib/python3.11/dist-packages (from langgraph-sdk<0.2.0,>=0.1.42->langgraph) (0.28.1)\n",
            "Requirement already satisfied: orjson>=3.10.1 in /usr/local/lib/python3.11/dist-packages (from langgraph-sdk<0.2.0,>=0.1.42->langgraph) (3.10.18)\n",
            "Requirement already satisfied: annotated-types>=0.6.0 in /usr/local/lib/python3.11/dist-packages (from pydantic>=2.7.4->langgraph) (0.7.0)\n",
            "Requirement already satisfied: pydantic-core==2.33.2 in /usr/local/lib/python3.11/dist-packages (from pydantic>=2.7.4->langgraph) (2.33.2)\n",
            "Requirement already satisfied: typing-inspection>=0.4.0 in /usr/local/lib/python3.11/dist-packages (from pydantic>=2.7.4->langgraph) (0.4.1)\n",
            "Requirement already satisfied: anyio in /usr/local/lib/python3.11/dist-packages (from httpx>=0.25.2->langgraph-sdk<0.2.0,>=0.1.42->langgraph) (4.9.0)\n",
            "Requirement already satisfied: certifi in /usr/local/lib/python3.11/dist-packages (from httpx>=0.25.2->langgraph-sdk<0.2.0,>=0.1.42->langgraph) (2025.7.9)\n",
            "Requirement already satisfied: httpcore==1.* in /usr/local/lib/python3.11/dist-packages (from httpx>=0.25.2->langgraph-sdk<0.2.0,>=0.1.42->langgraph) (1.0.9)\n",
            "Requirement already satisfied: idna in /usr/local/lib/python3.11/dist-packages (from httpx>=0.25.2->langgraph-sdk<0.2.0,>=0.1.42->langgraph) (3.10)\n",
            "Requirement already satisfied: h11>=0.16 in /usr/local/lib/python3.11/dist-packages (from httpcore==1.*->httpx>=0.25.2->langgraph-sdk<0.2.0,>=0.1.42->langgraph) (0.16.0)\n",
            "Requirement already satisfied: jsonpointer>=1.9 in /usr/local/lib/python3.11/dist-packages (from jsonpatch<2.0,>=1.33->langchain-core>=0.1->langgraph) (3.0.0)\n",
            "Requirement already satisfied: requests<3,>=2 in /usr/local/lib/python3.11/dist-packages (from langsmith>=0.3.45->langchain-core>=0.1->langgraph) (2.32.3)\n",
            "Requirement already satisfied: requests-toolbelt<2.0.0,>=1.0.0 in /usr/local/lib/python3.11/dist-packages (from langsmith>=0.3.45->langchain-core>=0.1->langgraph) (1.0.0)\n",
            "Requirement already satisfied: zstandard<0.24.0,>=0.23.0 in /usr/local/lib/python3.11/dist-packages (from langsmith>=0.3.45->langchain-core>=0.1->langgraph) (0.23.0)\n",
            "Requirement already satisfied: charset-normalizer<4,>=2 in /usr/local/lib/python3.11/dist-packages (from requests<3,>=2->langsmith>=0.3.45->langchain-core>=0.1->langgraph) (3.4.2)\n",
            "Requirement already satisfied: urllib3<3,>=1.21.1 in /usr/local/lib/python3.11/dist-packages (from requests<3,>=2->langsmith>=0.3.45->langchain-core>=0.1->langgraph) (2.4.0)\n",
            "Requirement already satisfied: sniffio>=1.1 in /usr/local/lib/python3.11/dist-packages (from anyio->httpx>=0.25.2->langgraph-sdk<0.2.0,>=0.1.42->langgraph) (1.3.1)\n",
            "Downloading langgraph-0.5.3-py3-none-any.whl (143 kB)\n",
            "\u001b[2K   \u001b[90m━━━━━━━━━━━━━━━━━━━━━━━━━━━━━━━━━━━━━━━━\u001b[0m \u001b[32m143.8/143.8 kB\u001b[0m \u001b[31m3.7 MB/s\u001b[0m eta \u001b[36m0:00:00\u001b[0m\n",
            "\u001b[?25hDownloading langgraph_checkpoint-2.1.0-py3-none-any.whl (43 kB)\n",
            "\u001b[2K   \u001b[90m━━━━━━━━━━━━━━━━━━━━━━━━━━━━━━━━━━━━━━━━\u001b[0m \u001b[32m43.8/43.8 kB\u001b[0m \u001b[31m4.2 MB/s\u001b[0m eta \u001b[36m0:00:00\u001b[0m\n",
            "\u001b[?25hDownloading langgraph_prebuilt-0.5.2-py3-none-any.whl (23 kB)\n",
            "Downloading langgraph_sdk-0.1.73-py3-none-any.whl (50 kB)\n",
            "\u001b[2K   \u001b[90m━━━━━━━━━━━━━━━━━━━━━━━━━━━━━━━━━━━━━━━━\u001b[0m \u001b[32m50.2/50.2 kB\u001b[0m \u001b[31m4.8 MB/s\u001b[0m eta \u001b[36m0:00:00\u001b[0m\n",
            "\u001b[?25hDownloading ormsgpack-1.10.0-cp311-cp311-manylinux_2_17_x86_64.manylinux2014_x86_64.whl (216 kB)\n",
            "\u001b[2K   \u001b[90m━━━━━━━━━━━━━━━━━━━━━━━━━━━━━━━━━━━━━━━━\u001b[0m \u001b[32m216.5/216.5 kB\u001b[0m \u001b[31m9.9 MB/s\u001b[0m eta \u001b[36m0:00:00\u001b[0m\n",
            "\u001b[?25hInstalling collected packages: ormsgpack, langgraph-sdk, langgraph-checkpoint, langgraph-prebuilt, langgraph\n",
            "Successfully installed langgraph-0.5.3 langgraph-checkpoint-2.1.0 langgraph-prebuilt-0.5.2 langgraph-sdk-0.1.73 ormsgpack-1.10.0\n"
          ]
        }
      ]
    },
    {
      "cell_type": "code",
      "source": [
        "import getpass\n",
        "import os\n",
        "\n",
        "if \"GOOGLE_API_KEY\" not in os.environ:\n",
        "    os.environ[\"GOOGLE_API_KEY\"] = getpass.getpass(\"Enter your Google AI API key: \")"
      ],
      "metadata": {
        "colab": {
          "base_uri": "https://localhost:8080/"
        },
        "id": "zR5vNO02a3Co",
        "outputId": "3ed2215e-ab0d-4980-c9a2-8aa5c1aac17f"
      },
      "execution_count": 2,
      "outputs": [
        {
          "name": "stdout",
          "output_type": "stream",
          "text": [
            "Enter your Google AI API key: ··········\n"
          ]
        }
      ]
    },
    {
      "cell_type": "code",
      "source": [
        "from langchain_google_genai import ChatGoogleGenerativeAI"
      ],
      "metadata": {
        "id": "W8OypL-va5Dh"
      },
      "execution_count": 3,
      "outputs": []
    },
    {
      "cell_type": "code",
      "source": [
        "model = ChatGoogleGenerativeAI(model=\"gemini-2.0-flash-001\")"
      ],
      "metadata": {
        "id": "O8vWMJQ2bCbq"
      },
      "execution_count": 4,
      "outputs": []
    },
    {
      "cell_type": "code",
      "source": [
        "from langgraph.graph import StateGraph, START, END\n",
        "from typing import TypedDict\n",
        "from dotenv import load_dotenv"
      ],
      "metadata": {
        "id": "18s1Pt9LbFDf"
      },
      "execution_count": 7,
      "outputs": []
    },
    {
      "cell_type": "code",
      "source": [
        "class BlogState(TypedDict):\n",
        "\n",
        "  title:str\n",
        "  outline:str\n",
        "  content:str"
      ],
      "metadata": {
        "id": "Jk0pLgaobJNM"
      },
      "execution_count": 8,
      "outputs": []
    },
    {
      "cell_type": "code",
      "source": [
        "def create_outline(state:BlogState) -> BlogState:\n",
        "\n",
        "  title = state['title']\n",
        "  prompt = f'Generate a detailed outline for a blog on the topic - {title}'\n",
        "\n",
        "  outline = model.invoke(prompt).content\n",
        "  state['outline'] = outline\n",
        "\n",
        "  return state"
      ],
      "metadata": {
        "id": "lFQOaTYlbgjP"
      },
      "execution_count": 17,
      "outputs": []
    },
    {
      "cell_type": "code",
      "source": [
        "def create_blog(state: BlogState) -> BlogState:\n",
        "\n",
        "    title = state['title']\n",
        "    outline = state['outline']\n",
        "\n",
        "    prompt = f'Write a detailed blog on the title - {title} using the follwing outline \\n {outline}'\n",
        "    content = model.invoke(prompt).content\n",
        "\n",
        "    state['content'] = content\n",
        "\n",
        "    return state"
      ],
      "metadata": {
        "id": "Ox-gDTsFb8jE"
      },
      "execution_count": 18,
      "outputs": []
    },
    {
      "cell_type": "code",
      "source": [
        "graph = StateGraph(BlogState)\n",
        "\n",
        "#nodes\n",
        "graph.add_node('create_outline',create_outline)\n",
        "graph.add_node(\"create_blog\",create_blog)\n",
        "\n",
        "#edges\n",
        "graph.add_edge(START,'create_outline')\n",
        "graph.add_edge('create_outline','create_blog')\n",
        "graph.add_edge('create_blog',END)\n",
        "\n",
        "workflow = graph.compile()"
      ],
      "metadata": {
        "id": "q6xiPx87cBm7"
      },
      "execution_count": 19,
      "outputs": []
    },
    {
      "cell_type": "code",
      "source": [
        "initial_state = {'title':\"Rise of AI in India\"}\n",
        "final_state = workflow.invoke(initial_state)\n",
        "print(final_state)"
      ],
      "metadata": {
        "colab": {
          "base_uri": "https://localhost:8080/"
        },
        "id": "aEiC_K7Ock-d",
        "outputId": "c1cc10b1-a993-4531-828d-5685d8a400ca"
      },
      "execution_count": 20,
      "outputs": [
        {
          "output_type": "stream",
          "name": "stdout",
          "text": [
            "{'title': 'Rise of AI in India', 'outline': '## Blog Outline: The Rise of AI in India\\n\\n**I. Introduction (Hook & Context)**\\n\\n*   **A. Hook:** Start with a compelling statistic, anecdote, or news headline illustrating the growing presence and impact of AI in India.\\n    *   Examples:\\n        *   \"By 2035, AI could add $957 billion to India\\'s GDP - McKinsey.\"\\n        *   \"A rural Indian farmer is now using AI-powered crop analysis to improve yields.\"\\n        *   \"The Indian government is investing heavily in AI research and development.\"\\n*   **B. Briefly Define AI:** Provide a clear and concise definition of Artificial Intelligence for a general audience. Avoid technical jargon.\\n*   **C. Contextualize AI in India:** Briefly explain why the rise of AI is particularly relevant and significant for India.\\n    *   Mention factors like:\\n        *   Large population and demographic dividend\\n        *   Growing digital economy\\n        *   Need for efficient solutions to address societal challenges\\n*   **D. Thesis Statement:** Clearly state the blog\\'s main argument. For example: \"The rise of AI in India presents a transformative opportunity for economic growth, social progress, and global competitiveness, but requires careful consideration of ethical implications and strategic investments in talent and infrastructure.\"\\n*   **E. Blog Outline Preview:** Briefly mention the key areas that will be covered in the blog post.\\n\\n**II. Key Drivers of AI Growth in India**\\n\\n*   **A. Government Initiatives & Policies:**\\n    *   **1. NITI Aayog\\'s National Strategy for AI:** Discuss the key objectives and initiatives outlined in the strategy.\\n        *   Focus areas: Healthcare, Agriculture, Education, Smart Cities, Mobility\\n    *   **2. Investment in Research & Development:** Highlight government funding and initiatives to promote AI research in academic institutions and research labs.\\n    *   **3. Data Governance and Privacy Frameworks:** Briefly touch upon the importance of data protection laws in the context of AI development.\\n*   **B. Thriving Startup Ecosystem:**\\n    *   **1. Rise of AI Startups:** Highlight the growth of AI startups in India across various sectors.\\n    *   **2. Venture Capital Investment:** Discuss the increasing investment in AI startups from both domestic and international investors.\\n    *   **3. Examples of Successful AI Startups:** Showcase a few promising AI startups and their innovative solutions.\\n*   **C. Availability of Data & Digitization:**\\n    *   **1. Increased Internet Penetration:** Explain how increased internet access is contributing to the availability of data.\\n    *   **2. Digital India Initiative:** Discuss the role of the Digital India initiative in creating a digital ecosystem that supports AI development.\\n    *   **3. Data Localization Policies:** Briefly touch upon the implications of data localization policies on AI development.\\n*   **D. Talent Pool & Skill Development:**\\n    *   **1. Growing STEM Education:** Highlight the increasing number of students pursuing STEM education in India.\\n    *   **2. AI Skill Development Programs:** Discuss initiatives to provide training and skill development in AI and related fields.\\n    *   **3. Collaboration with Universities:** Mention partnerships between companies and universities to promote AI education and research.\\n\\n**III. AI Applications Across Key Sectors in India**\\n\\n*   **A. Healthcare:**\\n    *   **1. AI-powered Diagnostics & Treatment:** Discuss how AI is being used for disease detection, personalized medicine, and drug discovery.\\n    *   **2. Telemedicine & Remote Healthcare:** Explain how AI is facilitating access to healthcare in remote areas.\\n    *   **3. Examples:** Mention specific AI applications in healthcare, such as AI-powered medical imaging analysis tools.\\n*   **B. Agriculture:**\\n    *   **1. Precision Farming:** Discuss how AI is being used to optimize crop yields, reduce water usage, and improve soil health.\\n    *   **2. Crop Monitoring & Disease Detection:** Explain how AI is helping farmers monitor crops and detect diseases early.\\n    *   **3. Examples:** Mention specific AI applications in agriculture, such as AI-powered irrigation systems.\\n*   **C. Finance & Banking:**\\n    *   **1. Fraud Detection & Risk Management:** Discuss how AI is being used to detect fraudulent transactions and manage financial risks.\\n    *   **2. Personalized Financial Services:** Explain how AI is enabling personalized financial advice and services.\\n    *   **3. Examples:** Mention specific AI applications in finance, such as AI-powered chatbots for customer service.\\n*   **D. Education:**\\n    *   **1. Personalized Learning:** Discuss how AI is being used to personalize learning experiences and provide individualized feedback.\\n    *   **2. Automated Grading & Assessment:** Explain how AI is automating grading and assessment tasks.\\n    *   **3. Examples:** Mention specific AI applications in education, such as AI-powered tutoring systems.\\n*   **E. Other Sectors:** Briefly mention AI applications in other sectors like:\\n    *   Smart Cities (e.g., traffic management, waste management)\\n    *   Manufacturing (e.g., predictive maintenance, automation)\\n    *   Retail (e.g., personalized recommendations, supply chain optimization)\\n\\n**IV. Challenges & Considerations**\\n\\n*   **A. Ethical Concerns:**\\n    *   **1. Bias & Fairness:** Discuss the potential for AI systems to perpetuate and amplify existing biases.\\n    *   **2. Privacy & Data Security:** Highlight the importance of protecting personal data in the age of AI.\\n    *   **3. Accountability & Transparency:** Explain the need for transparency and accountability in AI decision-making.\\n*   **B. Job Displacement:**\\n    *   **1. Potential Impact on Employment:** Discuss the potential for AI to automate jobs and displace workers.\\n    *   **2. Reskilling & Upskilling:** Emphasize the need for reskilling and upskilling initiatives to prepare the workforce for the future of work.\\n*   **C. Infrastructure & Connectivity:**\\n    *   **1. Digital Divide:** Highlight the need to address the digital divide to ensure that everyone can benefit from AI.\\n    *   **2. Reliable Internet Access:** Emphasize the importance of reliable internet access for AI development and deployment.\\n*   **D. Regulatory Framework:**\\n    *   **1. Need for Clear Regulations:** Discuss the need for clear and comprehensive regulations to govern the development and use of AI.\\n    *   **2. Balancing Innovation & Regulation:** Emphasize the importance of striking a balance between promoting innovation and protecting citizens.\\n\\n**V. The Future of AI in India**\\n\\n*   **A. Opportunities:**\\n    *   **1. Economic Growth & Development:** Emphasize the potential for AI to drive economic growth and improve living standards.\\n    *   **2. Social Progress:** Highlight the potential for AI to address societal challenges and improve quality of life.\\n    *   **3. Global Competitiveness:** Explain how AI can help India become a global leader in technology and innovation.\\n*   **B. Predictions:**\\n    *   **1. Trends to Watch:** Discuss emerging trends in AI, such as the rise of generative AI and edge computing.\\n    *   **2. Potential Disruptions:** Highlight potential disruptions caused by AI, such as changes in the labor market.\\n*   **C. Call to Action:**\\n    *   **1. Encourage Further Investment:** Encourage further investment in AI research, development, and education.\\n    *   **2. Promote Ethical AI Development:** Advocate for the development and use of AI in a responsible and ethical manner.\\n    *   **3. Foster Collaboration:** Encourage collaboration between government, industry, and academia to accelerate the adoption of AI in India.\\n\\n**VI. Conclusion (Summary & Final Thoughts)**\\n\\n*   **A. Recap Key Points:** Briefly summarize the main points discussed in the blog post.\\n*   **B. Reiterate Thesis Statement:** Reiterate the blog\\'s main argument.\\n*   **C. Final Thoughts:** Offer a concluding thought or perspective on the future of AI in India.\\n*   **D. Open-ended Question (Optional):** Pose a thought-provoking question to encourage further discussion.\\n\\n**Throughout the blog, use:**\\n\\n*   **Visuals:** Include relevant images, charts, and graphs to enhance engagement and understanding.\\n*   **Quotes:** Use quotes from experts and industry leaders to add credibility and perspective.\\n*   **Examples:** Provide concrete examples of AI applications in India to illustrate key points.\\n*   **Links:** Include links to relevant resources and articles for further reading.\\n\\nThis detailed outline provides a comprehensive framework for a blog post on the rise of AI in India. Remember to adapt the outline to your specific target audience and writing style. Good luck!', 'content': '## The Rise of AI in India: A Transformative Opportunity\\n\\n**I. Introduction (Hook & Context)**\\n\\n*   **A. Hook:** \"By 2035, AI could add $957 billion to India\\'s GDP,\" reports McKinsey. This staggering figure underscores the immense potential of Artificial Intelligence to reshape the Indian economy and society. From revolutionizing agriculture to transforming healthcare, AI is rapidly moving from a futuristic concept to a present-day reality.\\n\\n*   **B. Briefly Define AI:** Artificial Intelligence (AI) refers to the ability of machines to perform tasks that typically require human intelligence, such as learning, problem-solving, and decision-making. It\\'s about creating systems that can think and act like humans, but often with greater speed and efficiency.\\n\\n*   **C. Contextualize AI in India:** The rise of AI is particularly significant for India, a nation grappling with a large population, a burgeoning digital economy, and pressing societal challenges. With its vast pool of data, entrepreneurial spirit, and a need for efficient solutions in sectors like healthcare, agriculture, and education, India is uniquely positioned to leverage the power of AI for transformative growth.\\n\\n*   **D. Thesis Statement:** The rise of AI in India presents a transformative opportunity for economic growth, social progress, and global competitiveness. However, realizing this potential requires careful consideration of ethical implications, strategic investments in talent and infrastructure, and a robust regulatory framework.\\n\\n*   **E. Blog Outline Preview:** This blog will explore the key drivers fueling AI growth in India, examine its applications across various sectors, discuss the challenges and considerations that need to be addressed, and offer insights into the future of AI in the nation.\\n\\n**II. Key Drivers of AI Growth in India**\\n\\n*   **A. Government Initiatives & Policies:**\\n    *   **1. NITI Aayog\\'s National Strategy for AI:** The Indian government, through NITI Aayog, has launched a National Strategy for AI, aiming to harness its potential for inclusive growth. This strategy identifies key focus areas such as healthcare, agriculture, education, smart cities, and mobility.\\n    *   **2. Investment in Research & Development:** The government is actively investing in AI research and development through funding for academic institutions, research labs, and collaborative projects. This commitment to innovation is crucial for fostering a thriving AI ecosystem.\\n    *   **3. Data Governance and Privacy Frameworks:** Recognizing the importance of data protection, the government is working on establishing robust data governance and privacy frameworks. This is vital for ensuring responsible AI development and protecting citizens\\' rights.\\n\\n*   **B. Thriving Startup Ecosystem:**\\n    *   **1. Rise of AI Startups:** India is witnessing a rapid growth in the number of AI startups, driven by a vibrant entrepreneurial spirit and access to a large talent pool. These startups are developing innovative solutions across various sectors, contributing to the overall AI landscape.\\n    *   **2. Venture Capital Investment:** The increasing investment in AI startups from both domestic and international venture capitalists reflects the growing confidence in India\\'s AI potential. This influx of capital is fueling innovation and accelerating the development of AI solutions.\\n    *   **3. Examples of Successful AI Startups:**\\n        *   **Niramai:** Using AI for early-stage breast cancer detection.\\n        *   **CropIn:** Providing AI-powered solutions for precision agriculture.\\n        *   **Detect Technologies:** Offering AI-based predictive maintenance solutions for industrial equipment.\\n\\n*   **C. Availability of Data & Digitization:**\\n    *   **1. Increased Internet Penetration:** The rapid increase in internet penetration, particularly in rural areas, is contributing to the availability of vast amounts of data, which is essential for training AI models.\\n    *   **2. Digital India Initiative:** The Digital India initiative has played a crucial role in creating a digital ecosystem that supports AI development by promoting digital literacy, expanding internet access, and digitizing government services.\\n    *   **3. Data Localization Policies:** Data localization policies, while aimed at protecting user data, also have implications for AI development, potentially impacting the ability to train models on global datasets.\\n\\n*   **D. Talent Pool & Skill Development:**\\n    *   **1. Growing STEM Education:** India has a large and growing pool of STEM graduates, providing a foundation for AI talent development.\\n    *   **2. AI Skill Development Programs:** Numerous initiatives, both government-led and private, are focusing on providing training and skill development in AI and related fields. These programs aim to bridge the skills gap and equip the workforce with the necessary expertise.\\n    *   **3. Collaboration with Universities:** Partnerships between companies and universities are crucial for promoting AI education and research. These collaborations facilitate knowledge transfer, provide students with practical experience, and foster innovation.\\n\\n**III. AI Applications Across Key Sectors in India**\\n\\n*   **A. Healthcare:**\\n    *   **1. AI-powered Diagnostics & Treatment:** AI is being used to analyze medical images, diagnose diseases, personalize treatment plans, and accelerate drug discovery.\\n    *   **2. Telemedicine & Remote Healthcare:** AI is facilitating access to healthcare in remote areas through telemedicine platforms that provide remote consultations, diagnosis, and monitoring.\\n    *   **3. Examples:**\\n        *   AI-powered medical imaging analysis tools for detecting tumors and other abnormalities.\\n        *   AI-based chatbots for providing preliminary medical advice and triaging patients.\\n\\n*   **B. Agriculture:**\\n    *   **1. Precision Farming:** AI is enabling precision farming by optimizing crop yields, reducing water usage, and improving soil health through data-driven insights.\\n    *   **2. Crop Monitoring & Disease Detection:** AI is helping farmers monitor crops, detect diseases early, and make informed decisions about irrigation and fertilization.\\n    *   **3. Examples:**\\n        *   AI-powered drones for monitoring crop health and identifying areas that need attention.\\n        *   AI-based irrigation systems that automatically adjust water usage based on weather conditions and soil moisture levels.\\n\\n*   **C. Finance & Banking:**\\n    *   **1. Fraud Detection & Risk Management:** AI is being used to detect fraudulent transactions, assess credit risk, and manage financial risks more effectively.\\n    *   **2. Personalized Financial Services:** AI is enabling personalized financial advice, customized product recommendations, and improved customer service.\\n    *   **3. Examples:**\\n        *   AI-powered chatbots for providing customer support and answering financial queries.\\n        *   AI-based fraud detection systems that analyze transaction patterns and identify suspicious activities.\\n\\n*   **D. Education:**\\n    *   **1. Personalized Learning:** AI is being used to personalize learning experiences, provide individualized feedback, and tailor content to students\\' needs.\\n    *   **2. Automated Grading & Assessment:** AI is automating grading and assessment tasks, freeing up teachers\\' time and providing students with faster feedback.\\n    *   **3. Examples:**\\n        *   AI-powered tutoring systems that provide personalized instruction and support to students.\\n        *   AI-based assessment tools that automatically grade assignments and provide detailed feedback.\\n\\n*   **E. Other Sectors:**\\n    *   **Smart Cities:** AI is being used for traffic management, waste management, and public safety in smart cities.\\n    *   **Manufacturing:** AI is enabling predictive maintenance, automation, and quality control in manufacturing.\\n    *   **Retail:** AI is powering personalized recommendations, supply chain optimization, and customer service in the retail sector.\\n\\n**IV. Challenges & Considerations**\\n\\n*   **A. Ethical Concerns:**\\n    *   **1. Bias & Fairness:** AI systems can perpetuate and amplify existing biases if they are trained on biased data. It\\'s crucial to ensure that AI algorithms are fair and unbiased.\\n    *   **2. Privacy & Data Security:** The use of AI raises concerns about privacy and data security. Robust data protection measures are needed to safeguard personal information.\\n    *   **3. Accountability & Transparency:** Transparency and accountability are essential in AI decision-making. It\\'s important to understand how AI algorithms work and who is responsible for their decisions.\\n\\n*   **B. Job Displacement:**\\n    *   **1. Potential Impact on Employment:** AI has the potential to automate jobs and displace workers in various sectors.\\n    *   **2. Reskilling & Upskilling:** Reskilling and upskilling initiatives are crucial for preparing the workforce for the future of work and enabling workers to adapt to new roles.\\n\\n*   **C. Infrastructure & Connectivity:**\\n    *   **1. Digital Divide:** The digital divide needs to be addressed to ensure that everyone can benefit from AI. Access to technology and digital literacy are essential for inclusive growth.\\n    *   **2. Reliable Internet Access:** Reliable internet access is crucial for AI development and deployment, particularly in rural areas.\\n\\n*   **D. Regulatory Framework:**\\n    *   **1. Need for Clear Regulations:** Clear and comprehensive regulations are needed to govern the development and use of AI and address ethical concerns.\\n    *   **2. Balancing Innovation & Regulation:** It\\'s important to strike a balance between promoting innovation and protecting citizens\\' rights. Regulations should be flexible and adaptable to keep pace with the rapid advancements in AI.\\n\\n**V. The Future of AI in India**\\n\\n*   **A. Opportunities:**\\n    *   **1. Economic Growth & Development:** AI has the potential to drive significant economic growth and improve living standards in India.\\n    *   **2. Social Progress:** AI can be used to address societal challenges in areas such as healthcare, education, and agriculture, leading to improved quality of life.\\n    *   **3. Global Competitiveness:** AI can help India become a global leader in technology and innovation, enhancing its competitiveness in the global economy.\\n\\n*   **B. Predictions:**\\n    *   **1. Trends to Watch:** Emerging trends in AI include the rise of generative AI, edge computing, and explainable AI.\\n    *   **2. Potential Disruptions:** AI could lead to significant disruptions in the labor market, requiring proactive measures to mitigate potential negative impacts.\\n\\n*   **C. Call to Action:**\\n    *   **1. Encourage Further Investment:** Further investment in AI research, development, and education is crucial for realizing its full potential.\\n    *   **2. Promote Ethical AI Development:** Ethical considerations should be at the forefront of AI development to ensure that it is used responsibly and for the benefit of society.\\n    *   **3. Foster Collaboration:** Collaboration between government, industry, and academia is essential for accelerating the adoption of AI in India.\\n\\n**VI. Conclusion (Summary & Final Thoughts)**\\n\\n*   **A. Recap Key Points:** AI is rapidly transforming India across various sectors, driven by government initiatives, a thriving startup ecosystem, increasing data availability, and a growing talent pool.\\n*   **B. Reiterate Thesis Statement:** The rise of AI in India presents a transformative opportunity for economic growth, social progress, and global competitiveness. However, realizing this potential requires careful consideration of ethical implications, strategic investments in talent and infrastructure, and a robust regulatory framework.\\n*   **C. Final Thoughts:** The future of AI in India is bright, but it requires a collaborative and responsible approach to ensure that its benefits are shared by all.\\n*   **D. Open-ended Question (Optional):** How can India ensure that the benefits of AI are accessible to all its citizens, regardless of their socioeconomic background?'}\n"
          ]
        }
      ]
    },
    {
      "cell_type": "code",
      "source": [
        "final_state['content']"
      ],
      "metadata": {
        "colab": {
          "base_uri": "https://localhost:8080/",
          "height": 1000
        },
        "id": "7Zd4eA01dvXX",
        "outputId": "6fa3bcdd-d3fd-41c2-8166-cca6ed073b3b"
      },
      "execution_count": 24,
      "outputs": [
        {
          "output_type": "execute_result",
          "data": {
            "text/plain": [
              "'## The Rise of AI in India: A Transformative Opportunity\\n\\n**I. Introduction (Hook & Context)**\\n\\n*   **A. Hook:** \"By 2035, AI could add $957 billion to India\\'s GDP,\" reports McKinsey. This staggering figure underscores the immense potential of Artificial Intelligence to reshape the Indian economy and society. From revolutionizing agriculture to transforming healthcare, AI is rapidly moving from a futuristic concept to a present-day reality.\\n\\n*   **B. Briefly Define AI:** Artificial Intelligence (AI) refers to the ability of machines to perform tasks that typically require human intelligence, such as learning, problem-solving, and decision-making. It\\'s about creating systems that can think and act like humans, but often with greater speed and efficiency.\\n\\n*   **C. Contextualize AI in India:** The rise of AI is particularly significant for India, a nation grappling with a large population, a burgeoning digital economy, and pressing societal challenges. With its vast pool of data, entrepreneurial spirit, and a need for efficient solutions in sectors like healthcare, agriculture, and education, India is uniquely positioned to leverage the power of AI for transformative growth.\\n\\n*   **D. Thesis Statement:** The rise of AI in India presents a transformative opportunity for economic growth, social progress, and global competitiveness. However, realizing this potential requires careful consideration of ethical implications, strategic investments in talent and infrastructure, and a robust regulatory framework.\\n\\n*   **E. Blog Outline Preview:** This blog will explore the key drivers fueling AI growth in India, examine its applications across various sectors, discuss the challenges and considerations that need to be addressed, and offer insights into the future of AI in the nation.\\n\\n**II. Key Drivers of AI Growth in India**\\n\\n*   **A. Government Initiatives & Policies:**\\n    *   **1. NITI Aayog\\'s National Strategy for AI:** The Indian government, through NITI Aayog, has launched a National Strategy for AI, aiming to harness its potential for inclusive growth. This strategy identifies key focus areas such as healthcare, agriculture, education, smart cities, and mobility.\\n    *   **2. Investment in Research & Development:** The government is actively investing in AI research and development through funding for academic institutions, research labs, and collaborative projects. This commitment to innovation is crucial for fostering a thriving AI ecosystem.\\n    *   **3. Data Governance and Privacy Frameworks:** Recognizing the importance of data protection, the government is working on establishing robust data governance and privacy frameworks. This is vital for ensuring responsible AI development and protecting citizens\\' rights.\\n\\n*   **B. Thriving Startup Ecosystem:**\\n    *   **1. Rise of AI Startups:** India is witnessing a rapid growth in the number of AI startups, driven by a vibrant entrepreneurial spirit and access to a large talent pool. These startups are developing innovative solutions across various sectors, contributing to the overall AI landscape.\\n    *   **2. Venture Capital Investment:** The increasing investment in AI startups from both domestic and international venture capitalists reflects the growing confidence in India\\'s AI potential. This influx of capital is fueling innovation and accelerating the development of AI solutions.\\n    *   **3. Examples of Successful AI Startups:**\\n        *   **Niramai:** Using AI for early-stage breast cancer detection.\\n        *   **CropIn:** Providing AI-powered solutions for precision agriculture.\\n        *   **Detect Technologies:** Offering AI-based predictive maintenance solutions for industrial equipment.\\n\\n*   **C. Availability of Data & Digitization:**\\n    *   **1. Increased Internet Penetration:** The rapid increase in internet penetration, particularly in rural areas, is contributing to the availability of vast amounts of data, which is essential for training AI models.\\n    *   **2. Digital India Initiative:** The Digital India initiative has played a crucial role in creating a digital ecosystem that supports AI development by promoting digital literacy, expanding internet access, and digitizing government services.\\n    *   **3. Data Localization Policies:** Data localization policies, while aimed at protecting user data, also have implications for AI development, potentially impacting the ability to train models on global datasets.\\n\\n*   **D. Talent Pool & Skill Development:**\\n    *   **1. Growing STEM Education:** India has a large and growing pool of STEM graduates, providing a foundation for AI talent development.\\n    *   **2. AI Skill Development Programs:** Numerous initiatives, both government-led and private, are focusing on providing training and skill development in AI and related fields. These programs aim to bridge the skills gap and equip the workforce with the necessary expertise.\\n    *   **3. Collaboration with Universities:** Partnerships between companies and universities are crucial for promoting AI education and research. These collaborations facilitate knowledge transfer, provide students with practical experience, and foster innovation.\\n\\n**III. AI Applications Across Key Sectors in India**\\n\\n*   **A. Healthcare:**\\n    *   **1. AI-powered Diagnostics & Treatment:** AI is being used to analyze medical images, diagnose diseases, personalize treatment plans, and accelerate drug discovery.\\n    *   **2. Telemedicine & Remote Healthcare:** AI is facilitating access to healthcare in remote areas through telemedicine platforms that provide remote consultations, diagnosis, and monitoring.\\n    *   **3. Examples:**\\n        *   AI-powered medical imaging analysis tools for detecting tumors and other abnormalities.\\n        *   AI-based chatbots for providing preliminary medical advice and triaging patients.\\n\\n*   **B. Agriculture:**\\n    *   **1. Precision Farming:** AI is enabling precision farming by optimizing crop yields, reducing water usage, and improving soil health through data-driven insights.\\n    *   **2. Crop Monitoring & Disease Detection:** AI is helping farmers monitor crops, detect diseases early, and make informed decisions about irrigation and fertilization.\\n    *   **3. Examples:**\\n        *   AI-powered drones for monitoring crop health and identifying areas that need attention.\\n        *   AI-based irrigation systems that automatically adjust water usage based on weather conditions and soil moisture levels.\\n\\n*   **C. Finance & Banking:**\\n    *   **1. Fraud Detection & Risk Management:** AI is being used to detect fraudulent transactions, assess credit risk, and manage financial risks more effectively.\\n    *   **2. Personalized Financial Services:** AI is enabling personalized financial advice, customized product recommendations, and improved customer service.\\n    *   **3. Examples:**\\n        *   AI-powered chatbots for providing customer support and answering financial queries.\\n        *   AI-based fraud detection systems that analyze transaction patterns and identify suspicious activities.\\n\\n*   **D. Education:**\\n    *   **1. Personalized Learning:** AI is being used to personalize learning experiences, provide individualized feedback, and tailor content to students\\' needs.\\n    *   **2. Automated Grading & Assessment:** AI is automating grading and assessment tasks, freeing up teachers\\' time and providing students with faster feedback.\\n    *   **3. Examples:**\\n        *   AI-powered tutoring systems that provide personalized instruction and support to students.\\n        *   AI-based assessment tools that automatically grade assignments and provide detailed feedback.\\n\\n*   **E. Other Sectors:**\\n    *   **Smart Cities:** AI is being used for traffic management, waste management, and public safety in smart cities.\\n    *   **Manufacturing:** AI is enabling predictive maintenance, automation, and quality control in manufacturing.\\n    *   **Retail:** AI is powering personalized recommendations, supply chain optimization, and customer service in the retail sector.\\n\\n**IV. Challenges & Considerations**\\n\\n*   **A. Ethical Concerns:**\\n    *   **1. Bias & Fairness:** AI systems can perpetuate and amplify existing biases if they are trained on biased data. It\\'s crucial to ensure that AI algorithms are fair and unbiased.\\n    *   **2. Privacy & Data Security:** The use of AI raises concerns about privacy and data security. Robust data protection measures are needed to safeguard personal information.\\n    *   **3. Accountability & Transparency:** Transparency and accountability are essential in AI decision-making. It\\'s important to understand how AI algorithms work and who is responsible for their decisions.\\n\\n*   **B. Job Displacement:**\\n    *   **1. Potential Impact on Employment:** AI has the potential to automate jobs and displace workers in various sectors.\\n    *   **2. Reskilling & Upskilling:** Reskilling and upskilling initiatives are crucial for preparing the workforce for the future of work and enabling workers to adapt to new roles.\\n\\n*   **C. Infrastructure & Connectivity:**\\n    *   **1. Digital Divide:** The digital divide needs to be addressed to ensure that everyone can benefit from AI. Access to technology and digital literacy are essential for inclusive growth.\\n    *   **2. Reliable Internet Access:** Reliable internet access is crucial for AI development and deployment, particularly in rural areas.\\n\\n*   **D. Regulatory Framework:**\\n    *   **1. Need for Clear Regulations:** Clear and comprehensive regulations are needed to govern the development and use of AI and address ethical concerns.\\n    *   **2. Balancing Innovation & Regulation:** It\\'s important to strike a balance between promoting innovation and protecting citizens\\' rights. Regulations should be flexible and adaptable to keep pace with the rapid advancements in AI.\\n\\n**V. The Future of AI in India**\\n\\n*   **A. Opportunities:**\\n    *   **1. Economic Growth & Development:** AI has the potential to drive significant economic growth and improve living standards in India.\\n    *   **2. Social Progress:** AI can be used to address societal challenges in areas such as healthcare, education, and agriculture, leading to improved quality of life.\\n    *   **3. Global Competitiveness:** AI can help India become a global leader in technology and innovation, enhancing its competitiveness in the global economy.\\n\\n*   **B. Predictions:**\\n    *   **1. Trends to Watch:** Emerging trends in AI include the rise of generative AI, edge computing, and explainable AI.\\n    *   **2. Potential Disruptions:** AI could lead to significant disruptions in the labor market, requiring proactive measures to mitigate potential negative impacts.\\n\\n*   **C. Call to Action:**\\n    *   **1. Encourage Further Investment:** Further investment in AI research, development, and education is crucial for realizing its full potential.\\n    *   **2. Promote Ethical AI Development:** Ethical considerations should be at the forefront of AI development to ensure that it is used responsibly and for the benefit of society.\\n    *   **3. Foster Collaboration:** Collaboration between government, industry, and academia is essential for accelerating the adoption of AI in India.\\n\\n**VI. Conclusion (Summary & Final Thoughts)**\\n\\n*   **A. Recap Key Points:** AI is rapidly transforming India across various sectors, driven by government initiatives, a thriving startup ecosystem, increasing data availability, and a growing talent pool.\\n*   **B. Reiterate Thesis Statement:** The rise of AI in India presents a transformative opportunity for economic growth, social progress, and global competitiveness. However, realizing this potential requires careful consideration of ethical implications, strategic investments in talent and infrastructure, and a robust regulatory framework.\\n*   **C. Final Thoughts:** The future of AI in India is bright, but it requires a collaborative and responsible approach to ensure that its benefits are shared by all.\\n*   **D. Open-ended Question (Optional):** How can India ensure that the benefits of AI are accessible to all its citizens, regardless of their socioeconomic background?'"
            ],
            "application/vnd.google.colaboratory.intrinsic+json": {
              "type": "string"
            }
          },
          "metadata": {},
          "execution_count": 24
        }
      ]
    },
    {
      "cell_type": "code",
      "source": [],
      "metadata": {
        "id": "rANH7vnldQN2"
      },
      "execution_count": null,
      "outputs": []
    }
  ]
}